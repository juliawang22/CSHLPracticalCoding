{
 "cells": [
  {
   "cell_type": "code",
   "execution_count": 1,
   "metadata": {
    "ExecuteTime": {
     "end_time": "2020-10-27T18:19:00.530978Z",
     "start_time": "2020-10-27T18:18:59.595851Z"
    }
   },
   "outputs": [],
   "source": [
    "import numpy as np\n",
    "import pandas as pd\n",
    "import matplotlib.pyplot as plt\n",
    "import seaborn as sns\n",
    "\n",
    "\n",
    "import mkl\n",
    "import time"
   ]
  },
  {
   "cell_type": "code",
   "execution_count": 2,
   "metadata": {
    "ExecuteTime": {
     "end_time": "2020-10-27T18:19:01.316249Z",
     "start_time": "2020-10-27T18:19:01.305349Z"
    }
   },
   "outputs": [],
   "source": [
    "%matplotlib inline"
   ]
  },
  {
   "cell_type": "markdown",
   "metadata": {},
   "source": [
    "## Floats vs Ints in Matrix Multiplication"
   ]
  },
  {
   "cell_type": "code",
   "execution_count": 14,
   "metadata": {
    "ExecuteTime": {
     "end_time": "2020-10-27T19:20:57.340535Z",
     "start_time": "2020-10-27T19:20:57.313497Z"
    }
   },
   "outputs": [],
   "source": [
    "a = np.random.randint(low=0, high=100, size=[1000, 1000])\n",
    "b = np.random.randint(low=0, high=100, size=[1000, 1000])"
   ]
  },
  {
   "cell_type": "code",
   "execution_count": 15,
   "metadata": {
    "ExecuteTime": {
     "end_time": "2020-10-27T19:20:57.525457Z",
     "start_time": "2020-10-27T19:20:57.522166Z"
    }
   },
   "outputs": [
    {
     "data": {
      "text/plain": [
       "dtype('int64')"
      ]
     },
     "execution_count": 15,
     "metadata": {},
     "output_type": "execute_result"
    }
   ],
   "source": [
    "a.dtype"
   ]
  },
  {
   "cell_type": "code",
   "execution_count": null,
   "metadata": {
    "ExecuteTime": {
     "start_time": "2020-10-27T18:16:29.311Z"
    }
   },
   "outputs": [],
   "source": [
    "%%timeit\n",
    "res = a @ b"
   ]
  },
  {
   "cell_type": "code",
   "execution_count": 16,
   "metadata": {
    "ExecuteTime": {
     "end_time": "2020-10-27T19:20:58.583125Z",
     "start_time": "2020-10-27T19:20:58.576358Z"
    }
   },
   "outputs": [],
   "source": [
    "c = a.astype(float)\n",
    "d = b.astype(float)"
   ]
  },
  {
   "cell_type": "code",
   "execution_count": null,
   "metadata": {
    "ExecuteTime": {
     "start_time": "2020-10-27T18:16:29.632Z"
    }
   },
   "outputs": [],
   "source": [
    "%%timeit\n",
    "res = c @ d"
   ]
  },
  {
   "cell_type": "markdown",
   "metadata": {},
   "source": [
    "## Bottlneck the number of threads"
   ]
  },
  {
   "cell_type": "code",
   "execution_count": 13,
   "metadata": {
    "ExecuteTime": {
     "end_time": "2020-10-27T19:20:53.993724Z",
     "start_time": "2020-10-27T19:20:53.991653Z"
    }
   },
   "outputs": [],
   "source": [
    "import mkl\n",
    "import time"
   ]
  },
  {
   "cell_type": "markdown",
   "metadata": {},
   "source": [
    "c and d are both numpy arrays of float with shape [1000,1000]"
   ]
  },
  {
   "cell_type": "code",
   "execution_count": 17,
   "metadata": {
    "ExecuteTime": {
     "end_time": "2020-10-27T19:21:01.743899Z",
     "start_time": "2020-10-27T19:21:01.349125Z"
    }
   },
   "outputs": [],
   "source": [
    "n_threads = [1, 2, 4, 8, 16, 32, 64, 96]\n",
    "times = {}\n",
    "for n in n_threads:\n",
    "    mkl.set_num_threads_local(n)\n",
    "    start = time.time()\n",
    "    res = c @ d\n",
    "    stop = time.time()\n",
    "    times[n] = stop - start"
   ]
  },
  {
   "cell_type": "code",
   "execution_count": 19,
   "metadata": {
    "ExecuteTime": {
     "end_time": "2020-10-27T19:24:21.460331Z",
     "start_time": "2020-10-27T19:24:21.315773Z"
    }
   },
   "outputs": [
    {
     "name": "stderr",
     "output_type": "stream",
     "text": [
      "/home/bharris/miniconda3/envs/python3_base/lib/python3.7/site-packages/seaborn/_decorators.py:43: FutureWarning: Pass the following variables as keyword args: x, y. From version 0.12, the only valid positional argument will be `data`, and passing other arguments without an explicit keyword will result in an error or misinterpretation.\n",
      "  FutureWarning\n"
     ]
    },
    {
     "data": {
      "image/png": "[encoded data removed]",
      "text/plain": [
       "<Figure size 432x288 with 1 Axes>"
      ]
     },
     "metadata": {
      "needs_background": "light"
     },
     "output_type": "display_data"
    }
   ],
   "source": [
    "ax = sns.scatterplot(times.keys(), times.values())\n",
    "ax.set(xlabel='# of Threads',\n",
    "       ylabel='Runtime',\n",
    "       title='Matrix Multiplication of 1000x1000 random floats')\n",
    "sns.despine()\n",
    "plt.show()"
   ]
  },
  {
   "cell_type": "markdown",
   "metadata": {},
   "source": [
    "## Mulitprocessing in python\n",
    "\n",
    "Note, the code and data for this isn't availble right now online, but I can share it later"
   ]
  },
  {
   "cell_type": "code",
   "execution_count": 3,
   "metadata": {
    "ExecuteTime": {
     "end_time": "2020-10-27T18:19:29.841791Z",
     "start_time": "2020-10-27T18:19:29.839075Z"
    }
   },
   "outputs": [],
   "source": [
    "from egad import run_egad\n",
    "import multiprocessing as mp"
   ]
  },
  {
   "cell_type": "code",
   "execution_count": 4,
   "metadata": {
    "ExecuteTime": {
     "end_time": "2020-10-27T18:19:30.027884Z",
     "start_time": "2020-10-27T18:19:30.024509Z"
    }
   },
   "outputs": [],
   "source": [
    "networks_path = '/data/bharris/biccn_paper/data/bulk_rna/networks/'\n",
    "datasets = np.genfromtxt(\n",
    "    '/data/bharris/biccn_paper/data/bulk_rna/datasets_used.csv', dtype=str)\n",
    "file_names = [f'{networks_path}{ds}_pearson_nw.hdf5' for ds in datasets]"
   ]
  },
  {
   "cell_type": "code",
   "execution_count": 5,
   "metadata": {
    "ExecuteTime": {
     "end_time": "2020-10-27T18:19:30.218372Z",
     "start_time": "2020-10-27T18:19:30.213675Z"
    }
   },
   "outputs": [
    {
     "data": {
      "text/plain": [
       "(52,)"
      ]
     },
     "execution_count": 5,
     "metadata": {},
     "output_type": "execute_result"
    }
   ],
   "source": [
    "datasets.shape"
   ]
  },
  {
   "cell_type": "markdown",
   "metadata": {},
   "source": [
    "### Sequential"
   ]
  },
  {
   "cell_type": "code",
   "execution_count": 48,
   "metadata": {
    "ExecuteTime": {
     "end_time": "2020-10-27T17:58:10.037550Z",
     "start_time": "2020-10-27T17:47:06.230677Z"
    }
   },
   "outputs": [
    {
     "name": "stdout",
     "output_type": "stream",
     "text": [
      "CPU times: user 2h 28min 48s, sys: 56min 19s, total: 3h 25min 7s\n",
      "Wall time: 11min 3s\n"
     ]
    }
   ],
   "source": [
    "%%time\n",
    "go = pd.read_hdf('~/GO_data/go_mouse_nw.hdf5', 'go')\n",
    "res = []\n",
    "for fn in file_names:\n",
    "    nw = pd.read_hdf(fn, 'nw')\n",
    "    res.append(run_egad(go, nw).AUC.mean())"
   ]
  },
  {
   "cell_type": "markdown",
   "metadata": {},
   "source": [
    "### Multiprocessing Manager"
   ]
  },
  {
   "cell_type": "code",
   "execution_count": 50,
   "metadata": {
    "ExecuteTime": {
     "end_time": "2020-10-27T17:58:10.085002Z",
     "start_time": "2020-10-27T17:58:10.080950Z"
    }
   },
   "outputs": [],
   "source": [
    "def egad_test(fn,name, return_dict):\n",
    "    go = pd.read_hdf('~/GO_data/go_mouse_nw.hdf5', 'go')\n",
    "    nw = pd.read_hdf(fn, 'nw')\n",
    "    return_dict[name] = run_egad(go, nw).AUC.mean()"
   ]
  },
  {
   "cell_type": "code",
   "execution_count": 51,
   "metadata": {
    "ExecuteTime": {
     "end_time": "2020-10-27T18:01:02.181938Z",
     "start_time": "2020-10-27T17:58:10.086753Z"
    },
    "scrolled": true
   },
   "outputs": [
    {
     "name": "stdout",
     "output_type": "stream",
     "text": [
      "CPU times: user 76 ms, sys: 11.7 s, total: 11.8 s\n",
      "Wall time: 2min 52s\n"
     ]
    }
   ],
   "source": [
    "%%time\n",
    "manager = mp.Manager()\n",
    "return_dict = manager.dict()\n",
    "jobs = []\n",
    "for fn, name in zip(file_names, datasets):\n",
    "    p = mp.Process(target=egad_test, args=(fn, name, return_dict))\n",
    "    jobs.append(p)\n",
    "    p.start()\n",
    "for proc in jobs:\n",
    "    proc.join()"
   ]
  },
  {
   "cell_type": "markdown",
   "metadata": {},
   "source": [
    "### Multiprocessing Map"
   ]
  },
  {
   "cell_type": "code",
   "execution_count": 6,
   "metadata": {
    "ExecuteTime": {
     "end_time": "2020-10-27T18:19:34.453397Z",
     "start_time": "2020-10-27T18:19:34.450499Z"
    }
   },
   "outputs": [],
   "source": [
    "def egad_test_map(fn):\n",
    "    go = pd.read_hdf('~/GO_data/go_mouse_nw.hdf5', 'go')\n",
    "    nw = pd.read_hdf(fn, 'nw')\n",
    "    return run_egad(go, nw).AUC.mean()"
   ]
  },
  {
   "cell_type": "code",
   "execution_count": 8,
   "metadata": {
    "ExecuteTime": {
     "end_time": "2020-10-27T18:24:35.192661Z",
     "start_time": "2020-10-27T18:21:43.706361Z"
    }
   },
   "outputs": [
    {
     "name": "stdout",
     "output_type": "stream",
     "text": [
      "CPU times: user 306 ms, sys: 242 ms, total: 548 ms\n",
      "Wall time: 2min 51s\n"
     ]
    }
   ],
   "source": [
    "%%time\n",
    "pool = mp.Pool(10)\n",
    "map_res = pool.map(egad_test_map, file_names)\n",
    "pool.close()\n",
    "pool.join()"
   ]
  },
  {
   "cell_type": "markdown",
   "metadata": {},
   "source": [
    "## Vectorization"
   ]
  },
  {
   "cell_type": "code",
   "execution_count": null,
   "metadata": {},
   "outputs": [],
   "source": [
    "## List Comprehension\n",
    "listB = [function(a) for a in listA]\n",
    "\n",
    "## For loop\n",
    "listB = []\n",
    "for a in listA:\n",
    "    listB.append(function(a))\n",
    "\n",
    "    \n",
    "## Vectorization\n",
    "vector_func = np.vectorize(function)\n",
    "listB = vector_func(listA)"
   ]
  },
  {
   "cell_type": "code",
   "execution_count": 20,
   "metadata": {
    "ExecuteTime": {
     "end_time": "2020-10-27T19:26:44.831400Z",
     "start_time": "2020-10-27T19:26:44.819878Z"
    }
   },
   "outputs": [],
   "source": [
    "rands = np.random.rand(1000,1000)"
   ]
  },
  {
   "cell_type": "code",
   "execution_count": 30,
   "metadata": {
    "ExecuteTime": {
     "end_time": "2020-10-27T19:28:20.189523Z",
     "start_time": "2020-10-27T19:28:18.414014Z"
    }
   },
   "outputs": [
    {
     "name": "stdout",
     "output_type": "stream",
     "text": [
      "221 ms ± 2.24 ms per loop (mean ± std. dev. of 7 runs, 1 loop each)\n"
     ]
    }
   ],
   "source": [
    "%%timeit\n",
    "rowSums = []\n",
    "for row in range(rands.shape[0]):\n",
    "    rowSums.append(sum(rands[row,:]))"
   ]
  },
  {
   "cell_type": "code",
   "execution_count": 29,
   "metadata": {
    "ExecuteTime": {
     "end_time": "2020-10-27T19:28:17.380404Z",
     "start_time": "2020-10-27T19:28:13.498191Z"
    }
   },
   "outputs": [
    {
     "name": "stdout",
     "output_type": "stream",
     "text": [
      "477 µs ± 825 ns per loop (mean ± std. dev. of 7 runs, 1000 loops each)\n"
     ]
    }
   ],
   "source": [
    "%%timeit\n",
    "rowSums = np.sum(rands, axis=1)"
   ]
  },
  {
   "cell_type": "code",
   "execution_count": 39,
   "metadata": {
    "ExecuteTime": {
     "end_time": "2020-10-27T19:43:16.053848Z",
     "start_time": "2020-10-27T19:43:16.049879Z"
    }
   },
   "outputs": [],
   "source": [
    "rands_df = pd.DataFrame(rands)"
   ]
  },
  {
   "cell_type": "code",
   "execution_count": 40,
   "metadata": {
    "ExecuteTime": {
     "end_time": "2020-10-27T19:43:21.482067Z",
     "start_time": "2020-10-27T19:43:16.273151Z"
    }
   },
   "outputs": [
    {
     "name": "stdout",
     "output_type": "stream",
     "text": [
      "6.41 ms ± 24.2 µs per loop (mean ± std. dev. of 7 runs, 100 loops each)\n"
     ]
    }
   ],
   "source": [
    "%%timeit\n",
    "res = rands_df.sum(axis=1)"
   ]
  },
  {
   "cell_type": "code",
   "execution_count": 42,
   "metadata": {
    "ExecuteTime": {
     "end_time": "2020-10-27T19:43:31.113636Z",
     "start_time": "2020-10-27T19:43:25.338544Z"
    }
   },
   "outputs": [
    {
     "name": "stdout",
     "output_type": "stream",
     "text": [
      "7.1 ms ± 3.05 µs per loop (mean ± std. dev. of 7 runs, 100 loops each)\n"
     ]
    }
   ],
   "source": [
    "%%timeit\n",
    "res = np.sum(rands_df,axis=1)"
   ]
  },
  {
   "cell_type": "code",
   "execution_count": 41,
   "metadata": {
    "ExecuteTime": {
     "end_time": "2020-10-27T19:43:25.335990Z",
     "start_time": "2020-10-27T19:43:21.484555Z"
    }
   },
   "outputs": [
    {
     "name": "stdout",
     "output_type": "stream",
     "text": [
      "476 µs ± 14.4 µs per loop (mean ± std. dev. of 7 runs, 1000 loops each)\n"
     ]
    }
   ],
   "source": [
    "%%timeit\n",
    "res = rands_df.values.sum(axis=1)"
   ]
  },
  {
   "cell_type": "code",
   "execution_count": 43,
   "metadata": {
    "ExecuteTime": {
     "end_time": "2020-10-27T19:43:35.048783Z",
     "start_time": "2020-10-27T19:43:31.116246Z"
    }
   },
   "outputs": [
    {
     "name": "stdout",
     "output_type": "stream",
     "text": [
      "482 µs ± 17 µs per loop (mean ± std. dev. of 7 runs, 1000 loops each)\n"
     ]
    }
   ],
   "source": [
    "%%timeit\n",
    "res = np.sum(rands_df.values, axis=1)"
   ]
  },
  {
   "cell_type": "code",
   "execution_count": null,
   "metadata": {},
   "outputs": [],
   "source": []
  }
 ],
 "metadata": {
  "kernelspec": {
   "display_name": "Python 3",
   "language": "python",
   "name": "python3"
  },
  "language_info": {
   "codemirror_mode": {
    "name": "ipython",
    "version": 3
   },
   "file_extension": ".py",
   "mimetype": "text/x-python",
   "name": "python",
   "nbconvert_exporter": "python",
   "pygments_lexer": "ipython3",
   "version": "3.7.9"
  },
  "toc": {
   "base_numbering": 1,
   "nav_menu": {},
   "number_sections": true,
   "sideBar": true,
   "skip_h1_title": false,
   "title_cell": "Table of Contents",
   "title_sidebar": "Contents",
   "toc_cell": false,
   "toc_position": {},
   "toc_section_display": true,
   "toc_window_display": false
  }
 },
 "nbformat": 4,
 "nbformat_minor": 4
}
