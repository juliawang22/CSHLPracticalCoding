{
 "cells": [
  {
   "cell_type": "markdown",
   "metadata": {},
   "source": [
    "## Imports\n",
    "\n",
    "Outside of scanpy, which is a python library for analyzing scRNAseq these rest of these should be standard computational python libraries"
   ]
  },
  {
   "cell_type": "code",
   "execution_count": 89,
   "metadata": {
    "ExecuteTime": {
     "end_time": "2020-10-27T14:55:21.512039Z",
     "start_time": "2020-10-27T14:55:21.509547Z"
    }
   },
   "outputs": [],
   "source": [
    "import pandas as pd\n",
    "import numpy as np\n",
    "import seaborn as sns\n",
    "from scipy import stats\n",
    "import matplotlib.pyplot as plt\n",
    "\n",
    "import statsmodels.api as sm"
   ]
  },
  {
   "cell_type": "markdown",
   "metadata": {},
   "source": [
    "If you need to install scanpy here is a cell for that"
   ]
  },
  {
   "cell_type": "code",
   "execution_count": 2,
   "metadata": {
    "ExecuteTime": {
     "end_time": "2020-10-27T14:05:43.761094Z",
     "start_time": "2020-10-27T14:05:43.756046Z"
    }
   },
   "outputs": [],
   "source": [
    "#!pip install scanpy"
   ]
  },
  {
   "cell_type": "code",
   "execution_count": 3,
   "metadata": {
    "ExecuteTime": {
     "end_time": "2020-10-27T14:05:44.487727Z",
     "start_time": "2020-10-27T14:05:43.767318Z"
    }
   },
   "outputs": [],
   "source": [
    "import scanpy as sc"
   ]
  },
  {
   "cell_type": "markdown",
   "metadata": {},
   "source": [
    "## Mann Whitney Test\n",
    "\n",
    "To illustrate the speedup you can get from vectorization I we will talk about the MannWhitney test because the default function for doing this in python (`stats.mannwhitneyu`) is not vectorized. However, as long as you know the math behind the function it is pretty straightforward to code it up and get a big speedup.\n",
    "\n",
    "The test is often used to find marker genes in scRNAseq data. This analysis is generally called Differential Expression (DE). By testing the differnetial expression for every gene between cell-types you can identify genes that identify the cell type. There are many ways to compute this. Parametrically this is usually done using a glm, but you can do it non-parametrically with a MannWhitney test.\n",
    "\n",
    "Today we are using some sample data from scanpy that is scRNAseq of mouse bone marrow. \n",
    "\n"
   ]
  },
  {
   "cell_type": "code",
   "execution_count": 4,
   "metadata": {
    "ExecuteTime": {
     "end_time": "2020-10-27T14:05:45.072673Z",
     "start_time": "2020-10-27T14:05:44.490488Z"
    },
    "scrolled": true
   },
   "outputs": [
    {
     "name": "stdout",
     "output_type": "stream",
     "text": [
      "WARNING: In Scanpy 0.*, this returned logarithmized data. Now it returns non-logarithmized data.\n"
     ]
    },
    {
     "name": "stderr",
     "output_type": "stream",
     "text": [
      "... storing 'paul15_clusters' as categorical\n",
      "Trying to set attribute `.uns` of view, copying.\n"
     ]
    }
   ],
   "source": [
    "paul = sc.datasets.paul15()"
   ]
  },
  {
   "cell_type": "markdown",
   "metadata": {},
   "source": [
    "This data is stored as an AnnData object\n",
    "\n",
    "<img src=\"https://falexwolf.de/img/scanpy/anndata.svg\" />\n",
    "\n",
    "For this analysis you just need the expression data and the cluster labels. The expression data is stored in cells x genes under `.X` and the clusters are stored in `.obs` as `paul15_clusters`"
   ]
  },
  {
   "cell_type": "code",
   "execution_count": 5,
   "metadata": {
    "ExecuteTime": {
     "end_time": "2020-10-27T14:05:45.254489Z",
     "start_time": "2020-10-27T14:05:45.074752Z"
    },
    "scrolled": false
   },
   "outputs": [
    {
     "data": {
      "image/png": "[encoded data removed]",
      "text/plain": [
       "<Figure size 432x288 with 1 Axes>"
      ]
     },
     "metadata": {
      "needs_background": "light"
     },
     "output_type": "display_data"
    }
   ],
   "source": [
    "clusters = paul.obs.paul15_clusters\n",
    "ax = sns.countplot(clusters)\n",
    "ax.set_xticklabels(ax.get_xticklabels(),ha='right',rotation=45)\n",
    "sns.despine()"
   ]
  },
  {
   "cell_type": "markdown",
   "metadata": {},
   "source": [
    "Differential expression can be done by either comparing each cluster to all other clusters, known as 1vAll or done using a 1v1 approach, where you compute all pairwise comparisions between the clusters. \n",
    "\n",
    "For this exercise we can just select 2 clusters and compare them. I selected two Monocyte clusters, 14Mo and 15Mo but you can use any pair of clusters you want"
   ]
  },
  {
   "cell_type": "code",
   "execution_count": 6,
   "metadata": {
    "ExecuteTime": {
     "end_time": "2020-10-27T14:05:46.616455Z",
     "start_time": "2020-10-27T14:05:46.611483Z"
    }
   },
   "outputs": [],
   "source": [
    "##Getting the clusters you need\n",
    "selected_clusters = clusters.isin(['14Mo', '15Mo'])\n",
    "\n",
    "cluster_labels = clusters[selected_clusters]\n",
    "cluster14 = cluster_labels.index[cluster_labels == '14Mo']\n",
    "cluster15 = cluster_labels.index[cluster_labels == '15Mo']"
   ]
  },
  {
   "cell_type": "code",
   "execution_count": 7,
   "metadata": {
    "ExecuteTime": {
     "end_time": "2020-10-27T14:05:48.026799Z",
     "start_time": "2020-10-27T14:05:48.021040Z"
    }
   },
   "outputs": [
    {
     "data": {
      "text/plain": [
       "(559, 3451)"
      ]
     },
     "execution_count": 7,
     "metadata": {},
     "output_type": "execute_result"
    }
   ],
   "source": [
    "##Subsetting the expression data (stored)\n",
    "expression = paul.to_df()[selected_clusters]\n",
    "expression.shape"
   ]
  },
  {
   "cell_type": "markdown",
   "metadata": {},
   "source": [
    "To illustrate the speedup we get from vectorization we need to first compute differntial expression p values using `stats.mannwhitneyu` \n",
    "\n",
    "> Note: It is common for gene expression to be 0 for all cells for a given gene, which will throw an error in the `stats.mannwhitneyu`"
   ]
  },
  {
   "cell_type": "code",
   "execution_count": 10,
   "metadata": {
    "ExecuteTime": {
     "end_time": "2020-10-27T14:08:01.529881Z",
     "start_time": "2020-10-27T14:06:58.979575Z"
    }
   },
   "outputs": [
    {
     "name": "stdout",
     "output_type": "stream",
     "text": [
      "7.76 s ± 401 ms per loop (mean ± std. dev. of 7 runs, 1 loop each)\n"
     ]
    }
   ],
   "source": [
    "%%timeit\n",
    "pvals = pd.Series()\n",
    "for gene in expression.columns:\n",
    "    try:\n",
    "        pvals[gene] = stats.mannwhitneyu(expression.loc[cluster14, gene],\n",
    "                                         expression.loc[cluster15, gene])[1]\n",
    "    except:\n",
    "        pvals[gene] = 1"
   ]
  },
  {
   "cell_type": "markdown",
   "metadata": {},
   "source": [
    "### Calculating Mann Whitney U test statistic:\n",
    "\n",
    "There are a few equations you need for computing significance values for this. \n",
    "\n",
    "1. Compute U\n",
    "\n",
    "$\\large{U = R - ((n_1 * (n_1 + 1)) /2)}$\n",
    "\n",
    "$n_1$ = sample size of group 1\n",
    "\n",
    "$n_2$ = sample size of group 2\n",
    "\n",
    "R is sum of the ranks of (order) of the values of group 1\n",
    "\n",
    "2. Compute Z\n",
    "\n",
    "$\\large{Z = \\frac{|U - \\frac{n_1 * n_2}{2}|}{\\sqrt{\\frac{n_1 * n_2 * (n_1 + n_2 + 1)}{12}}}}$\n",
    "\n",
    "Note the above equation doesn't use tie correction, which is lightly different than the `stats.mannwhitenyu` function. Ranks are computed by giving ties the average rank of all the values, which slightly messes up the standard deviation of the uniform distribution. This correction isn't totally necessary, and excluding it just makes your p values more conservative \n",
    "\n",
    "$\\large{Z = \\frac{U - \\textit{m}_U}{\\sigma_U}}$\n",
    "\n",
    "$\\large{\\textit{m}_U = \\frac{n_1n_2}{2}}$\n",
    "\n",
    "$\\large{\\sigma_{corr} = \\sqrt{\\frac{n_1n_2}{12}((n+1) - \\sum\\limits_{i=1}^k{\\frac{t_i^3 - t_i}{n(n-1)}})}}$\n",
    "\n",
    "$n = n_1 + n_2$\n",
    "\n",
    "$t_i$ is the number of subjects sharing rank i, and k is the number of (distinct) ranks\n",
    "\n",
    "3. Use normal distribution to compute p values"
   ]
  },
  {
   "cell_type": "code",
   "execution_count": 73,
   "metadata": {
    "ExecuteTime": {
     "end_time": "2020-10-27T14:48:27.096309Z",
     "start_time": "2020-10-27T14:48:27.020897Z"
    },
    "scrolled": true
   },
   "outputs": [],
   "source": [
    "R = expression.rank()\n",
    "n1 = cluster14.shape[0]\n",
    "n2 = cluster15.shape[0]\n",
    "\n",
    "U = np.sum(R.loc[cluster14].values, axis=0) - ((n1 * (n1 + 1)) / 2)\n",
    "\n",
    "Z = (U - ((n1 * n2) / 2)) / np.sqrt((n1 * n2 * (n1 + n2 + 1)) / 12)\n",
    "\n",
    "p = stats.norm.sf(Z)"
   ]
  },
  {
   "cell_type": "code",
   "execution_count": 75,
   "metadata": {
    "ExecuteTime": {
     "end_time": "2020-10-27T14:52:35.990317Z",
     "start_time": "2020-10-27T14:52:35.987394Z"
    }
   },
   "outputs": [
    {
     "data": {
      "text/plain": [
       "array([0.9991665 , 0.55777512, 0.29252189, ..., 0.43871702, 0.81050666,\n",
       "       0.3390156 ])"
      ]
     },
     "execution_count": 75,
     "metadata": {},
     "output_type": "execute_result"
    }
   ],
   "source": [
    "p"
   ]
  },
  {
   "cell_type": "markdown",
   "metadata": {},
   "source": [
    "These are uncorrected p values, which aren't terribly useful, so to correct them you can use the Benjamini Hotchberg procedure using `sm.stats.multipletests ` (in statsmodels)\n"
   ]
  },
  {
   "cell_type": "code",
   "execution_count": 76,
   "metadata": {
    "ExecuteTime": {
     "end_time": "2020-10-27T14:52:37.947220Z",
     "start_time": "2020-10-27T14:52:37.943966Z"
    }
   },
   "outputs": [],
   "source": [
    "padj = sm.stats.multipletests(p, method='fdr_bh')[1]"
   ]
  },
  {
   "cell_type": "markdown",
   "metadata": {},
   "source": [
    "When doing differential expression it often isn't enough to just look at the p values to discern markers. So we often use a second metric, log2FoldChange. \n",
    "\n",
    "\n",
    "You calculate log2FC by subtracting the average expressions from each other for each gene. Then taking the log2 of the difference. While you can't compute the log of a negative, you need to store the sign of the difference and put it on the result of computing the log becasue this notes whether or not the gene is up or downregulated."
   ]
  },
  {
   "cell_type": "code",
   "execution_count": 125,
   "metadata": {
    "ExecuteTime": {
     "end_time": "2020-10-27T15:02:52.215034Z",
     "start_time": "2020-10-27T15:02:52.203389Z"
    }
   },
   "outputs": [
    {
     "name": "stderr",
     "output_type": "stream",
     "text": [
      "/Users/bharris/miniconda3/lib/python3.7/site-packages/pandas/core/series.py:853: RuntimeWarning: divide by zero encountered in log2\n",
      "  result = getattr(ufunc, method)(*inputs, **kwargs)\n"
     ]
    }
   ],
   "source": [
    "log2FC = np.log2(expression.loc[cluster14].mean(axis=0) /\n",
    "                 expression.loc[cluster15].mean(axis=0))"
   ]
  },
  {
   "cell_type": "markdown",
   "metadata": {},
   "source": [
    "If you want to visualize these results you can create what is known as a volcano plot, where you create a scatterplot with log2FoldChange on the x axis and -log10padj."
   ]
  },
  {
   "cell_type": "code",
   "execution_count": 130,
   "metadata": {
    "ExecuteTime": {
     "end_time": "2020-10-27T15:03:50.819483Z",
     "start_time": "2020-10-27T15:03:50.703442Z"
    }
   },
   "outputs": [
    {
     "data": {
      "image/png": "[encoded data removed]",
      "text/plain": [
       "<Figure size 432x288 with 1 Axes>"
      ]
     },
     "metadata": {
      "needs_background": "light"
     },
     "output_type": "display_data"
    }
   ],
   "source": [
    "logpadj = -1 * np.log10(padj)\n",
    "ax=sns.scatterplot(log2FC, logpadj, s=10, alpha=.7)\n",
    "ax.set(xlabel='log2FoldChange', ylabel='-log10Padj')\n",
    "sns.despine()\n",
    "plt.show()"
   ]
  },
  {
   "cell_type": "code",
   "execution_count": null,
   "metadata": {},
   "outputs": [],
   "source": []
  }
 ],
 "metadata": {
  "kernelspec": {
   "display_name": "Python 3",
   "language": "python",
   "name": "python3"
  },
  "language_info": {
   "codemirror_mode": {
    "name": "ipython",
    "version": 3
   },
   "file_extension": ".py",
   "mimetype": "text/x-python",
   "name": "python",
   "nbconvert_exporter": "python",
   "pygments_lexer": "ipython3",
   "version": "3.7.4"
  },
  "toc": {
   "base_numbering": 1,
   "nav_menu": {},
   "number_sections": true,
   "sideBar": true,
   "skip_h1_title": false,
   "title_cell": "Table of Contents",
   "title_sidebar": "Contents",
   "toc_cell": false,
   "toc_position": {},
   "toc_section_display": true,
   "toc_window_display": false
  }
 },
 "nbformat": 4,
 "nbformat_minor": 4
}
